{
 "cells": [
  {
   "cell_type": "markdown",
   "id": "aab94d71-edd5-4ecd-9d75-a315fd142a58",
   "metadata": {},
   "source": [
    "# Machine Learning "
   ]
  },
  {
   "cell_type": "markdown",
   "id": "6d3b020c-44b6-4a2a-9511-46100acbef86",
   "metadata": {},
   "source": [
    "## FEATURE ENGINEERING ASSIGNMENT 1"
   ]
  },
  {
   "cell_type": "markdown",
   "id": "6981b26c-0fe8-4fed-8fd4-9bcdcf3e619f",
   "metadata": {},
   "source": [
    "## Assignment Questions and Answer "
   ]
  },
  {
   "cell_type": "code",
   "execution_count": null,
   "id": "336acdb7-626c-4492-89ef-8d5d789775f8",
   "metadata": {},
   "outputs": [],
   "source": []
  }
 ],
 "metadata": {
  "kernelspec": {
   "display_name": "Python 3 (ipykernel)",
   "language": "python",
   "name": "python3"
  },
  "language_info": {
   "codemirror_mode": {
    "name": "ipython",
    "version": 3
   },
   "file_extension": ".py",
   "mimetype": "text/x-python",
   "name": "python",
   "nbconvert_exporter": "python",
   "pygments_lexer": "ipython3",
   "version": "3.12.4"
  }
 },
 "nbformat": 4,
 "nbformat_minor": 5
}
